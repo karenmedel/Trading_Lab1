{
 "cells": [
  {
   "cell_type": "code",
   "execution_count": 1,
   "metadata": {},
   "outputs": [],
   "source": [
    "# Librerias\n",
    "import quandl\n",
    "import datetime\n",
    "import numpy as np\n",
    "import pandas as pd\n",
    "import scipy.stats as stats"
   ]
  },
  {
   "cell_type": "code",
   "execution_count": 7,
   "metadata": {},
   "outputs": [],
   "source": [
    "quandl.ApiConfig.api_key = \"Us7sh5qQJQtwrPCA3rc1\" # Quandl API key\\n\"\n",
    "fechas = list(['2017-03-31','2018-03-29'])"
   ]
  },
  {
   "cell_type": "code",
   "execution_count": 40,
   "metadata": {},
   "outputs": [],
   "source": [
    "mes1 = pd.read_csv('https://raw.githubusercontent.com/Dianachav/Trading_Lab1/master/ITA_holdings-1.csv', skiprows=10, delim_whitespace=False)\n",
    "mes1=mes1.drop(columns = ['Name', 'Asset Class', \"Market Value\", 'Notional Value', 'Sector', 'SEDOL', 'ISIN', 'Exchange'])\n",
    "mes1=mes1.dropna(axis=0)\n",
    "#mes1\n",
    "\n",
    "tick = list(mes1.index)\n",
    "weights = mes1['Weight (%)']\n"
   ]
  },
  {
   "cell_type": "code",
   "execution_count": 5,
   "metadata": {},
   "outputs": [
    {
     "name": "stdout",
     "output_type": "stream",
     "text": [
      "El valor de todas las posiciones del ETF es de: 12743.808399999996\n",
      "El valor del ETF es de 1357.5219790655362\n"
     ]
    }
   ],
   "source": [
    "t1 = mes1.iloc[:,0:1] #Tickers\n",
    "peso1 = mes1.iloc[:,1] #Pesos \n",
    "precio1 = mes1.iloc[:,2] #Precio de la acción\n",
    "a1 = peso1*precio1 # Valor de la acción por Ticker\n",
    "\n",
    "v_etf1 = sum(a1) #Suma de los valores de las acciones\n",
    "print (\"El valor de todas las posiciones del ETF es de:\", v_etf1)\n",
    "\n",
    "ETF1 =  17300000/v_etf1\n",
    "print(\"El valor del ETF es de\", ETF1)\n"
   ]
  },
  {
   "cell_type": "code",
   "execution_count": 62,
   "metadata": {},
   "outputs": [],
   "source": [
    "data_csv = pd.read_csv('https://raw.githubusercontent.com/Dianachav/Trading_Lab1/master/ITA_holdings-1.csv', skiprows = [0,1,2,3,4,5,6,7,8,9], index_col = ['Ticker'])\n",
    "tick = list(data_csv.index)\n",
    "weights = data_csv['Weight (%)']\n",
    "def Download_QuandL(fechas:'Dates_list ', tick:'Tickers of Stock'):\n",
    "    dates = { 'gte': fechas[0], 'lte': fechas[1] }\n",
    "    column = { 'columns': ['date', 'Open', 'Close']}\n",
    "    data = quandl.get_table('WIKI/PRICES', qopts = column, ticker = tick, date = dates, paginate=True)# ticker = 'WIKI/AAPL' #'AAPL.US'\\n\",\n",
    "    data = data.iloc[::-1]\n",
    "    data = data.reset_index()\n",
    "    data = data.drop(['None'],1)\n",
    "    return data"
   ]
  },
  {
   "cell_type": "code",
   "execution_count": 63,
   "metadata": {},
   "outputs": [],
   "source": [
    "def All_Data(fechas:'Dates_list ', tick:'Ticker'):\n",
    "    d = {} # Crea un Diccionario Vacío\\n\",\n",
    "    for i in range(len(tick)): # ciclo que descarga los datos de Quandl y los guarda como DataFrames en un Diccionario\\n\",\n",
    "        nom = str(tick[i]) \n",
    "        d[\"_{0}\".format(nom)] = Download_QuandL(fechas, tick[i])\n",
    "        return d\n"
   ]
  },
  {
   "cell_type": "code",
   "execution_count": 17,
   "metadata": {},
   "outputs": [],
   "source": [
    "def Rebalanceo(df, Com, Cap_I, R_R, n_a, we, op):\n",
    "    #Esta funcion hace los rebalanceos de cada activo de forma diaria por una año \n",
    "    a = (df['close']/df['open'])-1\n",
    "    P_se = list(df['open']*.99)\n",
    "    add_s = list()\n",
    "    Opp = list()\n",
    "    comi = list()\n",
    "    In_shares = np.floor((we*Cap_I)/df['close'][0])\n",
    "    for i in range(len(df)):\n",
    "        if a.iloc[i] < R_R:\n",
    "            add_s.append(n_a)\n",
    "            Opp.append('Compra')\n",
    "            comi.append(Com*df['close'].iloc[i]*n_a)\n",
    "            \n",
    "        else:\n",
    "            add_s.append(0)\n",
    "            Opp.append('-')\n",
    "            comi.append(0)\n",
    "    df = df.join(pd.DataFrame(add_s, columns = ['# Added Shares']))\n",
    "    df = df.join(pd.DataFrame(Opp, columns = ['Operacion']))\n",
    "    df = df.join(pd.DataFrame(comi, columns = ['Comisión']))\n",
    "    df = df.join(pd.DataFrame(P_se, columns = ['Precio de Señal']))\n",
    "    Tot_Acciones = pd.DataFrame(list(df['# Added Shares'].cumsum()), columns = ['Total Shares'])+In_shares\n",
    "    df = df.join(Tot_Acciones)\n",
    "    Val_to_port = pd.DataFrame(list(df['close']*df['Total Shares']), columns = ['Value to ETF'])\n",
    "    df = df.join(Val_to_port)\n",
    "    \n",
    "    frames = [op, df[df.Operacion == 'Compra']]\n",
    "    op = pd.concat(frames)\n",
    "    \n",
    "    \n",
    "    return df, op\n",
    "    "
   ]
  },
  {
   "cell_type": "code",
   "execution_count": 73,
   "metadata": {},
   "outputs": [],
   "source": [
    "def Clean_Dicc(dic:'Diccionario a limpiar',sizes:'Tamaño deseado del DF'):\n",
    "    y = list(dic.keys())\n",
    "    for h in y:\n",
    "        if len(dic[h])!=sizes:\n",
    "            del dic[h]\n",
    "            \n",
    "    return dic"
   ]
  },
  {
   "cell_type": "code",
   "execution_count": 77,
   "metadata": {},
   "outputs": [],
   "source": [
    "Data = All_Data(fechas, tick)"
   ]
  },
  {
   "cell_type": "code",
   "execution_count": 74,
   "metadata": {},
   "outputs": [],
   "source": [
    "d_full = Clean_Dicc(Data,248)"
   ]
  },
  {
   "cell_type": "code",
   "execution_count": 52,
   "metadata": {},
   "outputs": [],
   "source": [
    "tick = list(d_full.keys())\n",
    "d2 = {}\n",
    "op = pd.DataFrame(columns=['date', 'open', 'close', '# Added Shares', 'Operacion', 'Comisión', 'Precio de Señal', 'Total Shares', 'Value to ETF'])\n",
    "for j in range(len(tick)):\n",
    "    tabla , op = Rebalanceo(d_full[tick[j]],0.0003,1000000,-0.01,10,weights[j], op)\n",
    "    d2[\"Data{0}\".format(j)] = tabla\n",
    "op_2 = op.groupby('date')"
   ]
  },
  {
   "cell_type": "code",
   "execution_count": 78,
   "metadata": {},
   "outputs": [
    {
     "data": {
      "text/plain": [
       "1"
      ]
     },
     "execution_count": 78,
     "metadata": {},
     "output_type": "execute_result"
    }
   ],
   "source": [
    "len(Data)"
   ]
  },
  {
   "cell_type": "code",
   "execution_count": null,
   "metadata": {},
   "outputs": [],
   "source": []
  }
 ],
 "metadata": {
  "kernelspec": {
   "display_name": "Python [default]",
   "language": "python",
   "name": "python3"
  },
  "language_info": {
   "codemirror_mode": {
    "name": "ipython",
    "version": 3
   },
   "file_extension": ".py",
   "mimetype": "text/x-python",
   "name": "python",
   "nbconvert_exporter": "python",
   "pygments_lexer": "ipython3",
   "version": "3.5.5"
  }
 },
 "nbformat": 4,
 "nbformat_minor": 2
}
